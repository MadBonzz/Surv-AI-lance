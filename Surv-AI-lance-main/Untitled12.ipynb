{
  "cells": [
    {
      "cell_type": "code",
      "execution_count": null,
      "metadata": {
        "id": "epwsbsCnnJ8F"
      },
      "outputs": [],
      "source": [
        "import os\n",
        "import tensorflow as tf\n",
        "from tensorflow import keras\n",
        "from keras import models\n",
        "from keras import layers\n",
        "from keras import optimizers\n",
        "from keras import losses\n",
        "from keras import metrics\n",
        "from keras.layers import Conv2D\n",
        "from keras.layers import Flatten\n",
        "from keras.preprocessing.image import ImageDataGenerator"
      ]
    },
    {
      "cell_type": "code",
      "execution_count": null,
      "metadata": {
        "colab": {
          "base_uri": "https://localhost:8080/"
        },
        "id": "WdphwUA8nPlh",
        "outputId": "45917993-f5e8-4975-b33c-9724672f2be2"
      },
      "outputs": [
        {
          "name": "stdout",
          "output_type": "stream",
          "text": [
            "Cloning into 'OD-WeaponDetection'...\n",
            "remote: Enumerating objects: 50755, done.\u001b[K\n",
            "remote: Counting objects: 100% (11673/11673), done.\u001b[K\n",
            "remote: Compressing objects: 100% (10232/10232), done.\u001b[K\n",
            "remote: Total 50755 (delta 11), reused 11673 (delta 11), pack-reused 39082\u001b[K\n",
            "Receiving objects: 100% (50755/50755), 2.26 GiB | 18.69 MiB/s, done.\n",
            "Resolving deltas: 100% (10978/10978), done.\n",
            "Updating files: 100% (63128/63128), done.\n"
          ]
        }
      ],
      "source": [
        "!git clone https://github.com/ari-dasci/OD-WeaponDetection.git"
      ]
    },
    {
      "cell_type": "code",
      "execution_count": null,
      "metadata": {
        "id": "z0pkcYgE-j7O"
      },
      "outputs": [],
      "source": [
        "data_dir = './OD-WeaponDetection/Weapons and similar handled objects/Sohas_weapon-Classification'"
      ]
    },
    {
      "cell_type": "code",
      "execution_count": null,
      "metadata": {
        "colab": {
          "base_uri": "https://localhost:8080/"
        },
        "id": "VBhmbP7s_Hfl",
        "outputId": "a4eb17c8-e893-4324-e4fc-6382943b5f33"
      },
      "outputs": [
        {
          "name": "stdout",
          "output_type": "stream",
          "text": [
            "['pistol', 'knife', 'monedero', 'tarjeta', 'smartphone', 'billete']\n"
          ]
        }
      ],
      "source": [
        "print(os.listdir(data_dir))"
      ]
    },
    {
      "cell_type": "code",
      "execution_count": null,
      "metadata": {
        "id": "x0JWXdOZ_d59"
      },
      "outputs": [],
      "source": [
        "pistol_data = os.listdir(data_dir + '/pistol')"
      ]
    },
    {
      "cell_type": "code",
      "execution_count": null,
      "metadata": {
        "colab": {
          "base_uri": "https://localhost:8080/"
        },
        "id": "DXX3NVotDghX",
        "outputId": "19184b64-9a6d-445c-c946-e18f14a76714"
      },
      "outputs": [
        {
          "name": "stdout",
          "output_type": "stream",
          "text": [
            "6\n"
          ]
        }
      ],
      "source": [
        "print(len(os.listdir(data_dir)))"
      ]
    },
    {
      "cell_type": "code",
      "execution_count": null,
      "metadata": {
        "colab": {
          "base_uri": "https://localhost:8080/"
        },
        "id": "nH9IShIb_luu",
        "outputId": "eed31d94-1037-4dfc-8f76-01e1e4c80190"
      },
      "outputs": [
        {
          "name": "stdout",
          "output_type": "stream",
          "text": [
            "3975\n"
          ]
        }
      ],
      "source": [
        "print(len(pistol_data))"
      ]
    },
    {
      "cell_type": "code",
      "execution_count": null,
      "metadata": {
        "colab": {
          "base_uri": "https://localhost:8080/"
        },
        "id": "z4pdX4Vk_qnd",
        "outputId": "564b4e84-a7e2-44e3-d887-28449c3fbbc2"
      },
      "outputs": [
        {
          "name": "stdout",
          "output_type": "stream",
          "text": [
            "6\n"
          ]
        }
      ],
      "source": [
        "print(len(os.listdir(data_dir + '/')))"
      ]
    },
    {
      "cell_type": "code",
      "execution_count": null,
      "metadata": {
        "id": "1xdAMcVRJaZ5"
      },
      "outputs": [],
      "source": [
        "datagen = ImageDataGenerator(rescale=1./255, validation_split=0.2, horizontal_flip=True)"
      ]
    },
    {
      "cell_type": "code",
      "execution_count": null,
      "metadata": {
        "colab": {
          "base_uri": "https://localhost:8080/"
        },
        "id": "vm5zEgfeJbnz",
        "outputId": "686a7d95-c91f-40f3-cfc4-34f47412b163"
      },
      "outputs": [
        {
          "name": "stdout",
          "output_type": "stream",
          "text": [
            "Found 7638 images belonging to 6 classes.\n"
          ]
        }
      ],
      "source": [
        "train_dataset = datagen.flow_from_directory(\n",
        "    data_dir,\n",
        "    target_size=(224, 224),\n",
        "    batch_size=32,\n",
        "    class_mode='categorical',\n",
        "    subset='training',\n",
        "    shuffle=True\n",
        ")"
      ]
    },
    {
      "cell_type": "code",
      "execution_count": null,
      "metadata": {
        "colab": {
          "base_uri": "https://localhost:8080/"
        },
        "id": "iyhoaNrVKyih",
        "outputId": "1003e12f-feb2-495e-a17c-fc06be4516b8"
      },
      "outputs": [
        {
          "name": "stdout",
          "output_type": "stream",
          "text": [
            "Found 1906 images belonging to 6 classes.\n"
          ]
        }
      ],
      "source": [
        "val_dataset = datagen.flow_from_directory(\n",
        "    data_dir,\n",
        "    target_size=(224, 224),\n",
        "    batch_size=32,\n",
        "    class_mode='categorical',\n",
        "    subset='validation'\n",
        ")"
      ]
    },
    {
      "cell_type": "code",
      "execution_count": null,
      "metadata": {
        "id": "JL40DXciE1GY"
      },
      "outputs": [],
      "source": [
        "test_datagen = ImageDataGenerator(rescale=1./255, horizontal_flip=True)"
      ]
    },
    {
      "cell_type": "code",
      "execution_count": null,
      "metadata": {
        "colab": {
          "base_uri": "https://localhost:8080/"
        },
        "id": "zkpLd5vzLJmB",
        "outputId": "bd8ae30a-d0a6-488a-eee3-2563f44236bc"
      },
      "outputs": [
        {
          "name": "stdout",
          "output_type": "stream",
          "text": [
            "Found 9544 images belonging to 6 classes.\n"
          ]
        }
      ],
      "source": [
        "test_dataset = test_datagen.flow_from_directory(\n",
        "    data_dir,\n",
        "    target_size=(224, 224),\n",
        "    batch_size=32,\n",
        "    class_mode='categorical',\n",
        "    shuffle=True\n",
        ")"
      ]
    },
    {
      "cell_type": "code",
      "execution_count": null,
      "metadata": {
        "colab": {
          "base_uri": "https://localhost:8080/"
        },
        "id": "khU2Ikqz45d_",
        "outputId": "2cce8014-0e8c-47df-9a85-7296705a0b2f"
      },
      "outputs": [
        {
          "name": "stdout",
          "output_type": "stream",
          "text": [
            "239\n"
          ]
        }
      ],
      "source": [
        "print(len(train_dataset))"
      ]
    },
    {
      "cell_type": "code",
      "execution_count": null,
      "metadata": {
        "id": "H1ii41H_oiFb"
      },
      "outputs": [],
      "source": [
        "class WeaponClassificationBase(keras.Model):\n",
        "  def training_step(self, batch):\n",
        "    images, labels = batch\n",
        "    out = self(images)\n",
        "    loss = losses.binary_crossentropy(out, labels)\n",
        "    return loss\n",
        "  \n",
        "  def validation_step(self, batch):\n",
        "    images, labels = batch\n",
        "    out = self(images)\n",
        "    loss = losses.binary_crossentropy(out, labels)\n",
        "    acc = accuracy(out, labels)\n",
        "    return {'val_loss': loss.detach(), 'val_acc': acc}\n",
        "\n",
        "  def validation_epoch_end(self, outputs):\n",
        "    batch_losses = [x['val_loss'] for x in outputs]\n",
        "    epoch_loss = tf.stack(batch_losses).mean()\n",
        "    batch_accs = [x['val_acc'] for x in outputs]\n",
        "    epoch_acc = tf.stack(batch_accs).mean()\n",
        "    return {'val_loss': epoch_loss.item(), 'val_acc': epoch_acc.item()}\n",
        "\n",
        "  def epoch_end(self, epoch, result):\n",
        "    print(\"Epoch [{}], train_loss: {:.4f}, val_loss: {:.4f}, val_acc: {:.4f}\".format(epoch, result['train_loss'], result['val_loss'], result['val_acc']))\n",
        "\n",
        "def accuracy(outputs, labels):\n",
        "    _, preds = tf.max(outputs, dim=1)\n",
        "    return tf.tensor(tf.sum(preds == labels).item() / len(preds))"
      ]
    },
    {
      "cell_type": "code",
      "execution_count": null,
      "metadata": {
        "id": "YcjucQ0Ar4R7"
      },
      "outputs": [],
      "source": []
    },
    {
      "cell_type": "code",
      "execution_count": null,
      "metadata": {},
      "outputs": [],
      "source": [
        "class WeaponDetectionModel(WeaponClassificationBase):\n",
        "  def __init__(self):\n",
        "    super().__init__()\n",
        "    self.network = models.Sequential(\n",
        "        Conv2D(32, kernel_size = 3, padding = 'same'),\n",
        "        layers.PReLU(),\n",
        "        Conv2D(64, kernel_size = 3, strides = 1, padding = 'same'),\n",
        "        layers.PReLU(),\n",
        "        layers.MaxPool2D(pool_size=(2, 2)),\n",
        "\n",
        "        Conv2D(128, kernel_size = 3, strides = 1, padding = 'same'),\n",
        "        layers.PReLU(),\n",
        "        Conv2D(128, kernel_size = 3, strides = 1, padding = 'same'),\n",
        "        layers.PReLU(),\n",
        "        layers.MaxPool2D(pool_size=(2, 2)),\n",
        "\n",
        "        Conv2D(256, kernel_size = 3, strides = 1, padding = 'same'),\n",
        "        layers.PReLU(),\n",
        "        layers.MaxPool2D(pool_size=(2, 2)),\n",
        "\n",
        "        Flatten(),\n",
        "        layers.Dense(units=3, activation='softmax'))\n",
        "    \n",
        "  def forward(self, xb):\n",
        "    return self.network.predict(xb)"
      ]
    },
    {
      "cell_type": "code",
      "execution_count": null,
      "metadata": {
        "id": "ahaObE6IvvAs"
      },
      "outputs": [],
      "source": [
        "optimizer = optimizers.Adam(learning_rate=0.001)"
      ]
    }
  ],
  "metadata": {
    "accelerator": "GPU",
    "colab": {
      "gpuType": "T4",
      "provenance": []
    },
    "gpuClass": "standard",
    "kernelspec": {
      "display_name": "Python 3",
      "name": "python3"
    },
    "language_info": {
      "name": "python",
      "version": "-1.-1.-1"
    }
  },
  "nbformat": 4,
  "nbformat_minor": 0
}
